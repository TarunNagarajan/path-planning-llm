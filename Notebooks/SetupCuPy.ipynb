{
  "nbformat": 4,
  "nbformat_minor": 0,
  "metadata": {
    "colab": {
      "provenance": [],
      "gpuType": "T4"
    },
    "kernelspec": {
      "name": "python3",
      "display_name": "Python 3"
    },
    "language_info": {
      "name": "python"
    },
    "accelerator": "GPU"
  },
  "cells": [
    {
      "cell_type": "code",
      "execution_count": null,
      "metadata": {
        "id": "nSw2CjKQ5lSq"
      },
      "outputs": [],
      "source": [
        "!pip install cupy-cuda11x"
      ]
    },
    {
      "cell_type": "code",
      "source": [
        "!nvcc --version"
      ],
      "metadata": {
        "id": "GjDhpBXT6WjY"
      },
      "execution_count": null,
      "outputs": []
    },
    {
      "cell_type": "code",
      "source": [
        "!pip uninstall -y cupy cupy-cuda12x"
      ],
      "metadata": {
        "id": "Mo_GqMEI7Frj"
      },
      "execution_count": null,
      "outputs": []
    },
    {
      "cell_type": "code",
      "source": [
        "!apt-get update -y\n",
        "!apt-get install -y cuda-toolkit-11-8"
      ],
      "metadata": {
        "id": "tO2zkMdv7LSh"
      },
      "execution_count": null,
      "outputs": []
    },
    {
      "cell_type": "code",
      "source": [
        "!pip install cupy-cuda11x"
      ],
      "metadata": {
        "id": "tyMwJ4Dg7Qn3"
      },
      "execution_count": null,
      "outputs": []
    },
    {
      "cell_type": "code",
      "source": [
        "!nvcc --version"
      ],
      "metadata": {
        "id": "oanVRE9C8sFQ"
      },
      "execution_count": null,
      "outputs": []
    },
    {
      "cell_type": "code",
      "source": [
        "!pip install -U cupy-cuda12x"
      ],
      "metadata": {
        "id": "V2CdFHCl83fS"
      },
      "execution_count": null,
      "outputs": []
    },
    {
      "cell_type": "code",
      "source": [
        "!nvcc --version\n"
      ],
      "metadata": {
        "id": "UjnKjXm689Yo"
      },
      "execution_count": null,
      "outputs": []
    },
    {
      "cell_type": "code",
      "source": [
        "!apt-get remove --purge '^cuda.*' -y\n",
        "!apt-get remove --purge '^nvidia-.*' -y\n",
        "!apt-get autoremove -y\n",
        "!apt-get clean\n",
        "!pip uninstall -y cupy cupy-cuda*\n"
      ],
      "metadata": {
        "id": "1JSg9Igt9SpK"
      },
      "execution_count": null,
      "outputs": []
    },
    {
      "cell_type": "code",
      "source": [
        "!wget https://developer.download.nvidia.com/compute/cuda/repos/ubuntu2004/x86_64/cuda-keyring_1.0-1_all.deb\n",
        "!dpkg -i cuda-keyring_1.0-1_all.deb\n",
        "!apt-get update\n",
        "!apt-get install -y cuda-toolkit-11-8\n"
      ],
      "metadata": {
        "colab": {
          "base_uri": "https://localhost:8080/"
        },
        "id": "y4SkGXRZ9WYQ",
        "outputId": "31c074d4-caf2-47ed-cc28-4ecb1bb13b28"
      },
      "execution_count": 5,
      "outputs": [
        {
          "output_type": "stream",
          "name": "stdout",
          "text": [
            "--2025-02-24 17:16:05--  https://developer.download.nvidia.com/compute/cuda/repos/ubuntu2004/x86_64/cuda-keyring_1.0-1_all.deb\n",
            "Resolving developer.download.nvidia.com (developer.download.nvidia.com)... 23.210.244.218, 23.210.244.213, 23.210.244.205, ...\n",
            "Connecting to developer.download.nvidia.com (developer.download.nvidia.com)|23.210.244.218|:443... connected.\n",
            "HTTP request sent, awaiting response... 200 OK\n",
            "Length: 4328 (4.2K) [application/x-deb]\n",
            "Saving to: ‘cuda-keyring_1.0-1_all.deb’\n",
            "\n",
            "cuda-keyring_1.0-1_ 100%[===================>]   4.23K  --.-KB/s    in 0s      \n",
            "\n",
            "2025-02-24 17:16:06 (114 MB/s) - ‘cuda-keyring_1.0-1_all.deb’ saved [4328/4328]\n",
            "\n",
            "\u001b[1mdpkg:\u001b[0m \u001b[1;33mwarning:\u001b[0m downgrading cuda-keyring from 1.1-1 to 1.0-1\n",
            "(Reading database ... 130262 files and directories currently installed.)\n",
            "Preparing to unpack cuda-keyring_1.0-1_all.deb ...\n",
            "Unpacking cuda-keyring (1.0-1) over (1.1-1) ...\n",
            "Setting up cuda-keyring (1.0-1) ...\n",
            "Hit:1 http://archive.ubuntu.com/ubuntu jammy InRelease\n",
            "Hit:2 http://archive.ubuntu.com/ubuntu jammy-updates InRelease\n",
            "Hit:3 http://archive.ubuntu.com/ubuntu jammy-backports InRelease\n",
            "Get:4 https://developer.download.nvidia.com/compute/cuda/repos/ubuntu2004/x86_64  InRelease [1,581 B]\n",
            "Hit:5 http://security.ubuntu.com/ubuntu jammy-security InRelease\n",
            "Hit:6 https://developer.download.nvidia.com/compute/cuda/repos/ubuntu2204/x86_64  InRelease\n",
            "Hit:7 https://cloud.r-project.org/bin/linux/ubuntu jammy-cran40/ InRelease\n",
            "Hit:8 https://r2u.stat.illinois.edu/ubuntu jammy InRelease\n",
            "Hit:9 https://ppa.launchpadcontent.net/deadsnakes/ppa/ubuntu jammy InRelease\n",
            "Hit:10 https://ppa.launchpadcontent.net/graphics-drivers/ppa/ubuntu jammy InRelease\n",
            "Hit:11 https://ppa.launchpadcontent.net/ubuntugis/ppa/ubuntu jammy InRelease\n",
            "Get:12 https://developer.download.nvidia.com/compute/cuda/repos/ubuntu2004/x86_64  Packages [2,008 kB]\n",
            "Fetched 2,010 kB in 3s (621 kB/s)\n",
            "Reading package lists... Done\n",
            "W: Skipping acquire of configured file 'main/source/Sources' as repository 'https://r2u.stat.illinois.edu/ubuntu jammy InRelease' does not seem to provide it (sources.list entry misspelt?)\n",
            "Reading package lists... Done\n",
            "Building dependency tree... Done\n",
            "Reading state information... Done\n",
            "cuda-toolkit-11-8 is already the newest version (11.8.0-1).\n",
            "0 upgraded, 0 newly installed, 0 to remove and 36 not upgraded.\n"
          ]
        }
      ]
    },
    {
      "cell_type": "code",
      "source": [
        "!pip install cupy-cuda11x\n"
      ],
      "metadata": {
        "colab": {
          "base_uri": "https://localhost:8080/"
        },
        "id": "RbxAIkR99bYX",
        "outputId": "67a26b61-e2f1-42e2-fd9a-6221c17502bc"
      },
      "execution_count": 6,
      "outputs": [
        {
          "output_type": "stream",
          "name": "stdout",
          "text": [
            "Requirement already satisfied: cupy-cuda11x in /usr/local/lib/python3.11/dist-packages (13.3.0)\n",
            "Requirement already satisfied: numpy<2.3,>=1.22 in /usr/local/lib/python3.11/dist-packages (from cupy-cuda11x) (1.26.4)\n",
            "Requirement already satisfied: fastrlock>=0.5 in /usr/local/lib/python3.11/dist-packages (from cupy-cuda11x) (0.8.3)\n"
          ]
        }
      ]
    },
    {
      "cell_type": "code",
      "source": [
        "import os\n",
        "os._exit(0)\n"
      ],
      "metadata": {
        "id": "6je5GrlL9geg"
      },
      "execution_count": null,
      "outputs": []
    },
    {
      "cell_type": "code",
      "source": [
        "import cupy as cp\n",
        "print(\"CuPy version:\", cp.__version__)\n",
        "print(\"CUDA version:\", cp.cuda.runtime.runtimeGetVersion())\n"
      ],
      "metadata": {
        "id": "9n0urblH9jnx"
      },
      "execution_count": null,
      "outputs": []
    },
    {
      "cell_type": "code",
      "source": [
        "!pip install cupy-cuda12x --no-cache-dir\n"
      ],
      "metadata": {
        "id": "qeB3CHKe9w4D"
      },
      "execution_count": null,
      "outputs": []
    },
    {
      "cell_type": "code",
      "source": [
        "import cupy as cp\n",
        "print(\"CuPy version:\", cp.__version__)\n",
        "print(\"CUDA version:\", cp.cuda.runtime.runtimeGetVersion())\n"
      ],
      "metadata": {
        "colab": {
          "base_uri": "https://localhost:8080/"
        },
        "id": "3ykltRjt9zip",
        "outputId": "1340f33a-408c-4e85-dbac-547fa1982d2f"
      },
      "execution_count": 1,
      "outputs": [
        {
          "output_type": "stream",
          "name": "stdout",
          "text": [
            "CuPy version: 13.3.0\n",
            "CUDA version: 12060\n"
          ]
        }
      ]
    },
    {
      "cell_type": "code",
      "source": [
        "!pip uninstall -y cupy cupy-cuda11x cupy-cuda12x\n"
      ],
      "metadata": {
        "colab": {
          "base_uri": "https://localhost:8080/"
        },
        "id": "l5rCSUo1-5B4",
        "outputId": "63ccba25-2a5f-4622-9d91-63d139ed5278"
      },
      "execution_count": 9,
      "outputs": [
        {
          "output_type": "stream",
          "name": "stdout",
          "text": [
            "\u001b[33mWARNING: Skipping cupy as it is not installed.\u001b[0m\u001b[33m\n",
            "\u001b[0m\u001b[33mWARNING: Skipping cupy-cuda11x as it is not installed.\u001b[0m\u001b[33m\n",
            "\u001b[0mFound existing installation: cupy-cuda12x 13.3.0\n",
            "Uninstalling cupy-cuda12x-13.3.0:\n",
            "  Successfully uninstalled cupy-cuda12x-13.3.0\n"
          ]
        }
      ]
    },
    {
      "cell_type": "code",
      "source": [
        "!pip install cupy-cuda12x==13.1.0\n"
      ],
      "metadata": {
        "colab": {
          "base_uri": "https://localhost:8080/"
        },
        "id": "-kC2DtbB-8CT",
        "outputId": "07bdfe13-f984-46d4-f4a1-a303387d7225"
      },
      "execution_count": 1,
      "outputs": [
        {
          "output_type": "stream",
          "name": "stdout",
          "text": [
            "Collecting cupy-cuda12x==13.1.0\n",
            "  Downloading cupy_cuda12x-13.1.0-cp311-cp311-manylinux2014_x86_64.whl.metadata (2.7 kB)\n",
            "Requirement already satisfied: numpy<1.29,>=1.22 in /usr/local/lib/python3.11/dist-packages (from cupy-cuda12x==13.1.0) (1.26.4)\n",
            "Requirement already satisfied: fastrlock>=0.5 in /usr/local/lib/python3.11/dist-packages (from cupy-cuda12x==13.1.0) (0.8.3)\n",
            "Downloading cupy_cuda12x-13.1.0-cp311-cp311-manylinux2014_x86_64.whl (90.0 MB)\n",
            "\u001b[2K   \u001b[90m━━━━━━━━━━━━━━━━━━━━━━━━━━━━━━━━━━━━━━━━\u001b[0m \u001b[32m90.0/90.0 MB\u001b[0m \u001b[31m5.8 MB/s\u001b[0m eta \u001b[36m0:00:00\u001b[0m\n",
            "\u001b[?25hInstalling collected packages: cupy-cuda12x\n",
            "  Attempting uninstall: cupy-cuda12x\n",
            "    Found existing installation: cupy-cuda12x 13.3.0\n",
            "    Uninstalling cupy-cuda12x-13.3.0:\n",
            "      Successfully uninstalled cupy-cuda12x-13.3.0\n",
            "Successfully installed cupy-cuda12x-13.1.0\n"
          ]
        }
      ]
    },
    {
      "cell_type": "code",
      "source": [
        "import cupy as cp\n",
        "print(cp.cuda.is_available())\n",
        "gpu_array = cp.array([1, 2, 3, 4, 5])\n",
        "print(gpu_array)\n"
      ],
      "metadata": {
        "colab": {
          "base_uri": "https://localhost:8080/"
        },
        "id": "rjNdMjSi_AVp",
        "outputId": "791d43ad-6bb3-4eb3-ec42-65bd88329e7c"
      },
      "execution_count": 3,
      "outputs": [
        {
          "output_type": "stream",
          "name": "stdout",
          "text": [
            "True\n",
            "[1 2 3 4 5]\n"
          ]
        }
      ]
    },
    {
      "cell_type": "code",
      "source": [
        "a = cp.array([1, 2, 3])\n",
        "b = cp.array([4, 5, 6])\n",
        "\n",
        "print(a + b)\n",
        "print(a * b)\n",
        "print(cp.exp(a))"
      ],
      "metadata": {
        "colab": {
          "base_uri": "https://localhost:8080/"
        },
        "id": "CCDDHiqx_bcr",
        "outputId": "a4b897d0-456b-48aa-a4bb-279ef748ceee"
      },
      "execution_count": 4,
      "outputs": [
        {
          "output_type": "stream",
          "name": "stdout",
          "text": [
            "[5 7 9]\n",
            "[ 4 10 18]\n",
            "[ 2.71828183  7.3890561  20.08553692]\n"
          ]
        }
      ]
    },
    {
      "cell_type": "code",
      "source": [
        "import numpy as np\n",
        "cpu_array = np.array([1, 2, 3])\n",
        "gpu_array = cp.array(cpu_array)\n",
        "cpu_result = cp.asnumpy(gpu_array)\n",
        "\n",
        "print(\"Numpy (CPU) Array:\", cpu_array)\n",
        "print(\"CuPy (GPU) Array:\", gpu_array)\n",
        "print(\"Converted:\", cpu_result)"
      ],
      "metadata": {
        "colab": {
          "base_uri": "https://localhost:8080/"
        },
        "id": "tNWskZS0_wap",
        "outputId": "78a95a70-178c-4282-b041-347c60d01272"
      },
      "execution_count": 5,
      "outputs": [
        {
          "output_type": "stream",
          "name": "stdout",
          "text": [
            "Numpy (CPU) Array: [1 2 3]\n",
            "CuPy (GPU) Array: [1 2 3]\n",
            "Converted: [1 2 3]\n"
          ]
        }
      ]
    },
    {
      "cell_type": "code",
      "source": [
        "import cupy as cp\n",
        "import numpy as np\n",
        "import time\n",
        "\n",
        "# Create a large NumPy array (100 million elements)\n",
        "cpu_array = np.random.rand(100_000_000)\n",
        "\n",
        "# Move to GPU\n",
        "start_gpu = time.time()\n",
        "gpu_array = cp.array(cpu_array)  # Transfer CPU -> GPU\n",
        "end_gpu = time.time()\n",
        "\n",
        "# Move back to CPU\n",
        "start_cpu = time.time()\n",
        "cpu_result = cp.asnumpy(gpu_array)  # Transfer GPU -> CPU\n",
        "end_cpu = time.time()\n",
        "\n",
        "print(f\"CPU -> GPU Transfer Time: {end_gpu - start_gpu:.6f} sec\")\n",
        "print(f\"GPU -> CPU Transfer Time: {end_cpu - start_cpu:.6f} sec\")\n",
        "\n",
        "# Measure repeated transfers\n",
        "repeats = 10\n",
        "start_repeat = time.time()\n",
        "for _ in range(repeats):\n",
        "    gpu_array = cp.array(cpu_array)  # CPU -> GPU\n",
        "    cpu_result = cp.asnumpy(gpu_array)  # GPU -> CPU\n",
        "end_repeat = time.time()\n",
        "\n",
        "print(f\"Average Transfer Time (CPU ↔ GPU, {repeats} times): {(end_repeat - start_repeat) / repeats:.6f} sec\")\n"
      ],
      "metadata": {
        "colab": {
          "base_uri": "https://localhost:8080/"
        },
        "id": "nXRy6PjaAKrd",
        "outputId": "d79d14bd-9090-4feb-a4e4-a046f93b1c73"
      },
      "execution_count": 6,
      "outputs": [
        {
          "output_type": "stream",
          "name": "stdout",
          "text": [
            "CPU -> GPU Transfer Time: 0.648601 sec\n",
            "GPU -> CPU Transfer Time: 0.365107 sec\n",
            "Average Transfer Time (CPU ↔ GPU, 10 times): 0.511249 sec\n"
          ]
        }
      ]
    }
  ]
}